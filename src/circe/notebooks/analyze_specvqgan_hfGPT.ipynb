{
 "cells": [
  {
   "cell_type": "code",
   "execution_count": null,
   "metadata": {},
   "outputs": [],
   "source": [
    "import torch\n",
    "import pytorch_lightning as pl\n",
    "from omegaconf import OmegaConf\n",
    "import sys\n",
    "\n",
    "sys.path.append(r\"../../\")\n",
    "from circe.models.LightningClassifier import LightningClassifier\n",
    "\n",
    "cfg_model = OmegaConf.load('../training/conf/model/hf-gpt.yaml')\n",
    "cfg_data = OmegaConf.load('../training/conf/data/vq-codebook.yaml')\n",
    "\n",
    "ckpt_path = \"../../../models-hfGPT-specvqgan/lightning_logs/version_27/checkpoints/epoch=144-step=580.ckpt\"\n",
    "model = LightningClassifier(cfg=cfg_model)\n",
    "model.configure_sharded_model()\n",
    "model.load_state_dict(torch.load(ckpt_path)[\"state_dict\"])\n",
    "model.eval()"
   ]
  },
  {
   "cell_type": "code",
   "execution_count": null,
   "metadata": {},
   "outputs": [],
   "source": [
    "npy_file = \"???\""
   ]
  },
  {
   "cell_type": "code",
   "execution_count": null,
   "metadata": {},
   "outputs": [],
   "source": [
    "import numpy as np\n",
    "from einops import rearrange\n",
    "import random\n",
    "\n",
    "values = torch.from_numpy(np.load(npy_file)).to(next(model.parameters()).device)\n",
    "values = rearrange(values, \"(f t) 1 -> f t\", f=5)\n",
    "rand_start = random.randint(0, values.shape[-1] - cfg_model.block_size // 5 - 2)\n",
    "inputs = values[..., rand_start:rand_start + cfg_model.block_size // 5]\n",
    "inputs = rearrange(inputs, \"f t -> (t f)\", f=5)\n",
    "target = values[..., rand_start + 1:rand_start + cfg_model.block_size // 5 + 1]\n",
    "target = rearrange(target, \"f t -> (t f)\", f=5)\n",
    "\n",
    "with torch.inference_mode():\n",
    "    print(inputs)\n",
    "    logits = model(inputs)\n",
    "    idx_next = torch.argmax(logits, dim=-1, keepdim=True)\n",
    "    print(f\"Cross entropy loss: {torch.nn.functional.cross_entropy(logits, target)}\")\n",
    "    print(f\"Next indices: {idx_next}\")\n",
    "    print(f\"Targets: {target}\")"
   ]
  }
 ],
 "metadata": {
  "kernelspec": {
   "display_name": "Python 3",
   "language": "python",
   "name": "python3"
  },
  "language_info": {
   "codemirror_mode": {
    "name": "ipython",
    "version": 3
   },
   "file_extension": ".py",
   "mimetype": "text/x-python",
   "name": "python",
   "nbconvert_exporter": "python",
   "pygments_lexer": "ipython3",
   "version": "3.10.9"
  },
  "orig_nbformat": 4,
  "vscode": {
   "interpreter": {
    "hash": "df093b121338e4ba53ef4b1498ab73a48c899993bc5e86e966943448d3561eb1"
   }
  }
 },
 "nbformat": 4,
 "nbformat_minor": 2
}
