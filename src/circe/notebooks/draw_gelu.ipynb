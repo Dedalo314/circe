{
 "cells": [
  {
   "cell_type": "code",
   "execution_count": null,
   "metadata": {},
   "outputs": [],
   "source": [
    "!pip install plotly\n",
    "!pip install kaleido"
   ]
  },
  {
   "cell_type": "code",
   "execution_count": null,
   "metadata": {},
   "outputs": [],
   "source": [
    "import torch\n",
    "\n",
    "x = torch.arange(start=-4, end=4, step=0.05, device=\"cpu\", requires_grad=False)\n",
    "y_gelu = torch.nn.functional.gelu(x).numpy()\n",
    "y_relu = torch.nn.functional.relu(x).numpy()\n",
    "y_elu = torch.nn.functional.elu(x, alpha=1.0).numpy()"
   ]
  },
  {
   "cell_type": "code",
   "execution_count": null,
   "metadata": {},
   "outputs": [],
   "source": [
    "import plotly.express as px\n",
    "import pandas as pd\n",
    "\n",
    "df = pd.DataFrame()\n",
    "df[\"in\"] = x.numpy().tolist() * 3\n",
    "df[\"out\"] = y_gelu.tolist() + y_relu.tolist() + y_elu.tolist()\n",
    "df[\"type\"] = [\"GELU\"] * len(x) + [\"ReLU\"] * len(x) + [\"ELU (alpha=1)\"] * len(x)\n",
    "fig = px.line(df, x=\"in\", y=\"out\", color=\"type\", title='Activation functions')\n",
    "fig.write_image(\"img/activation_funcs.pdf\")\n",
    "fig.show()"
   ]
  }
 ],
 "metadata": {
  "kernelspec": {
   "display_name": "Python 3",
   "language": "python",
   "name": "python3"
  },
  "language_info": {
   "codemirror_mode": {
    "name": "ipython",
    "version": 3
   },
   "file_extension": ".py",
   "mimetype": "text/x-python",
   "name": "python",
   "nbconvert_exporter": "python",
   "pygments_lexer": "ipython3",
   "version": "3.10.9"
  },
  "orig_nbformat": 4,
  "vscode": {
   "interpreter": {
    "hash": "df093b121338e4ba53ef4b1498ab73a48c899993bc5e86e966943448d3561eb1"
   }
  }
 },
 "nbformat": 4,
 "nbformat_minor": 2
}
