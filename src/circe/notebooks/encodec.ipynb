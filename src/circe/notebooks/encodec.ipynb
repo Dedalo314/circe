{
 "cells": [
  {
   "cell_type": "code",
   "execution_count": null,
   "metadata": {},
   "outputs": [],
   "source": [
    "from encodec import EncodecModel\n",
    "from encodec.utils import convert_audio\n",
    "import torchaudio\n",
    "import torch\n",
    "from IPython.display import Audio\n",
    "\n",
    "# Instantiate a pretrained EnCodec model\n",
    "model = EncodecModel.encodec_model_24khz()\n",
    "model.eval()\n",
    "model.set_target_bandwidth(1.5)\n",
    "\n",
    "# Load and pre-process the audio waveform\n",
    "wav, sr = torchaudio.load(\"???\")\n",
    "print(f\"Samples before resampling for EnCodec: {wav.shape[-1]}\")\n",
    "print(sr, model.sample_rate)\n",
    "wav = convert_audio(wav, sr, model.sample_rate, model.channels)\n",
    "wav = wav.unsqueeze(0)\n",
    "print(f\"Samples after resampling for EnCodec: {wav.shape[-1]}\")\n",
    "\n",
    "# Extract discrete codes from EnCodec\n",
    "with torch.inference_mode():\n",
    "    encoded_frames = model.encode(wav)\n",
    "    print(encoded_frames)\n",
    "codes = torch.cat([encoded[0] for encoded in encoded_frames], dim=-1)  # [B, n_q, T]\n",
    "decoded_wav = model.decode(encoded_frames)\n",
    "decoded_wav_resampled = torchaudio.functional.resample(decoded_wav, orig_freq=model.sample_rate, new_freq=sr)\n",
    "print(f\"Samples after resampling output of EnCodec: {decoded_wav_resampled.shape[-1]}\")"
   ]
  },
  {
   "cell_type": "code",
   "execution_count": null,
   "metadata": {},
   "outputs": [],
   "source": [
    "print(codes.shape)"
   ]
  },
  {
   "cell_type": "code",
   "execution_count": null,
   "metadata": {},
   "outputs": [],
   "source": [
    "Audio(decoded_wav.squeeze().detach(), rate=model.sample_rate)"
   ]
  },
  {
   "cell_type": "code",
   "execution_count": null,
   "metadata": {},
   "outputs": [],
   "source": [
    "# Delete all codes but the first one which is the most important\n",
    "print(f\"{codes.shape=}\")\n",
    "new_codes = codes.clone()\n",
    "new_codes[:, 1:, :] = torch.zeros(new_codes.shape)[:, 1:, :]\n",
    "decoded_wav_cut = model.decode([(new_codes, None)])\n",
    "Audio(decoded_wav_cut.squeeze().detach(), rate=model.sample_rate)"
   ]
  }
 ],
 "metadata": {
  "kernelspec": {
   "display_name": "Python 3",
   "language": "python",
   "name": "python3"
  },
  "language_info": {
   "codemirror_mode": {
    "name": "ipython",
    "version": 3
   },
   "file_extension": ".py",
   "mimetype": "text/x-python",
   "name": "python",
   "nbconvert_exporter": "python",
   "pygments_lexer": "ipython3",
   "version": "3.10.9"
  },
  "orig_nbformat": 4,
  "vscode": {
   "interpreter": {
    "hash": "df093b121338e4ba53ef4b1498ab73a48c899993bc5e86e966943448d3561eb1"
   }
  }
 },
 "nbformat": 4,
 "nbformat_minor": 2
}
