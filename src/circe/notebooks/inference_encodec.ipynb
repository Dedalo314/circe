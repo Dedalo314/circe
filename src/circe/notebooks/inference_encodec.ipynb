{
 "cells": [
  {
   "cell_type": "code",
   "execution_count": null,
   "metadata": {},
   "outputs": [],
   "source": [
    "import torch\n",
    "import pytorch_lightning as pl\n",
    "from importlib import reload\n",
    "from omegaconf import OmegaConf\n",
    "import sys\n",
    "\n",
    "sys.path.append(r\"../../\")\n",
    "from circe.models.LightningClassifier import LightningClassifier\n",
    "\n",
    "cfg_model = OmegaConf.load('../training/conf/model/hf-gpt-starttoken.yaml')\n",
    "\n",
    "ckpt_path = \"???\"\n",
    "model = LightningClassifier(cfg=cfg_model)\n",
    "model.configure_sharded_model()\n",
    "model.load_state_dict(torch.load(ckpt_path)[\"state_dict\"])\n",
    "model.eval()"
   ]
  },
  {
   "cell_type": "code",
   "execution_count": null,
   "metadata": {},
   "outputs": [],
   "source": [
    "pytorch_total_params = sum(p.numel() for p in model.parameters()) / 1e6\n",
    "pytorch_trainable_params = sum(p.numel() for p in model.parameters() if p.requires_grad) / 1e6\n",
    "print(f\"Total params: {pytorch_total_params:.2f}M\")\n",
    "print(f\"Trainable params: {pytorch_trainable_params:.2f}M\")"
   ]
  },
  {
   "cell_type": "code",
   "execution_count": null,
   "metadata": {},
   "outputs": [],
   "source": [
    "out_dir = 'out' # ignored if init_from is not 'resume'\n",
    "num_samples = 5 # number of samples to draw\n",
    "max_new_tokens = 3_000 # number of tokens generated in each sample\n",
    "temperature = 0.5 # 1.0 = no change, < 1.0 = less random, > 1.0 = more random, in predictions\n",
    "top_k = 10 # retain only the top_k most likely tokens, clamp others to have 0 probability\n",
    "seed = 1337\n",
    "device = \"cuda\"\n",
    "device_type = 'cuda' if 'cuda' in device else 'cpu' # for later use in torch.autocast"
   ]
  },
  {
   "cell_type": "code",
   "execution_count": null,
   "metadata": {},
   "outputs": [],
   "source": [
    "torch.manual_seed(seed)\n",
    "torch.cuda.manual_seed(seed)"
   ]
  },
  {
   "cell_type": "code",
   "execution_count": null,
   "metadata": {},
   "outputs": [],
   "source": [
    "from contextlib import nullcontext\n",
    "from tqdm.notebook import tqdm\n",
    "\n",
    "generated_chunks = []\n",
    "start_ids = []\n",
    "num_codebooks = 4\n",
    "x = (torch.tensor(start_ids, dtype=torch.long, device=next(model.parameters()).device)[None, ...])\n",
    "# run generation\n",
    "ctx = nullcontext() if device_type == 'cpu' else torch.amp.autocast(device_type=device_type, dtype=torch.float16)\n",
    "with torch.no_grad():\n",
    "    with ctx:\n",
    "        for k in tqdm(range(num_samples)):\n",
    "            y = model.generate_multiple(x, max_new_tokens, multiple=num_codebooks, temperature=temperature, top_k=top_k)\n",
    "            generated_chunks.append(y[0].tolist())\n",
    "            print(generated_chunks[-1])\n",
    "            print('---------------')"
   ]
  },
  {
   "cell_type": "code",
   "execution_count": null,
   "metadata": {},
   "outputs": [],
   "source": [
    "from encodec import EncodecModel\n",
    "from encodec.utils import convert_audio\n",
    "from einops import rearrange\n",
    "import torchaudio\n",
    "import torch\n",
    "from IPython.display import Audio\n",
    "\n",
    "# Instantiate a pretrained EnCodec model\n",
    "encodec = EncodecModel.encodec_model_24khz()\n",
    "encodec.eval()\n",
    "encodec.set_target_bandwidth(1.5)\n",
    "codes = torch.tensor(generated_chunks[3])\n",
    "codes = rearrange(codes, \"(s nq) -> 1 nq s\", nq=num_codebooks)  # [B, n_q, T]\n",
    "decoded_wav = encodec.decode([(codes, None)])\n",
    "Audio(decoded_wav.squeeze().detach(), rate=encodec.sample_rate)"
   ]
  },
  {
   "attachments": {},
   "cell_type": "markdown",
   "metadata": {},
   "source": [
    "## Conditioning with other sad piano songs"
   ]
  },
  {
   "cell_type": "code",
   "execution_count": null,
   "metadata": {},
   "outputs": [],
   "source": [
    "path_to_song = \"???\""
   ]
  },
  {
   "cell_type": "code",
   "execution_count": null,
   "metadata": {},
   "outputs": [],
   "source": [
    "import numpy as np\n",
    "codes = np.load(path_to_song)\n",
    "codes.shape"
   ]
  },
  {
   "cell_type": "code",
   "execution_count": null,
   "metadata": {},
   "outputs": [],
   "source": [
    "out_dir = 'out' # ignored if init_from is not 'resume'\n",
    "num_samples = 5 # number of samples to draw\n",
    "max_new_tokens = 3_000 # number of tokens generated in each sample\n",
    "temperature = 1.25 # 1.0 = no change, < 1.0 = less random, > 1.0 = more random, in predictions\n",
    "top_k = 20 # retain only the top_k most likely tokens, clamp others to have 0 probability\n",
    "seed = 1337\n",
    "device = \"cuda\"\n",
    "device_type = 'cuda' if 'cuda' in device else 'cpu' # for later use in torch.autocast"
   ]
  },
  {
   "cell_type": "code",
   "execution_count": null,
   "metadata": {},
   "outputs": [],
   "source": [
    "torch.manual_seed(seed)\n",
    "torch.cuda.manual_seed(seed)"
   ]
  },
  {
   "cell_type": "code",
   "execution_count": null,
   "metadata": {},
   "outputs": [],
   "source": [
    "from contextlib import nullcontext\n",
    "from tqdm.notebook import tqdm\n",
    "from einops import rearrange\n",
    "\n",
    "num_codebooks = 4\n",
    "generated_chunks = []\n",
    "# I get the middle because there is probably some active music\n",
    "start_ids = rearrange(codes, \"1 q n -> (n q)\", q=num_codebooks)\n",
    "first_id = (start_ids.shape[-1] // 8) * 4\n",
    "print(first_id)\n",
    "start_ids = start_ids[first_id:first_id + cfg_model.block_size]\n",
    "x = (torch.tensor(start_ids, dtype=torch.long, device=next(model.parameters()).device)[None, ...])\n",
    "# run generation\n",
    "ctx = nullcontext() if device_type == 'cpu' else torch.amp.autocast(device_type=device_type, dtype=torch.float16)\n",
    "with torch.no_grad():\n",
    "    with ctx:\n",
    "        for k in tqdm(range(num_samples)):\n",
    "            y = model.generate_multiple(x, max_new_tokens, multiple=num_codebooks, temperature=temperature, top_k=top_k)\n",
    "            generated_chunks.append(y[0].tolist())\n",
    "            print(generated_chunks[-1])\n",
    "            print('---------------')"
   ]
  },
  {
   "cell_type": "code",
   "execution_count": null,
   "metadata": {},
   "outputs": [],
   "source": [
    "from encodec import EncodecModel\n",
    "from encodec.utils import convert_audio\n",
    "from einops import rearrange\n",
    "import torchaudio\n",
    "import torch\n",
    "from IPython.display import Audio\n",
    "\n",
    "# Instantiate a pretrained EnCodec model\n",
    "encodec = EncodecModel.encodec_model_24khz() # [B, n_q, T]\n",
    "encodec.eval()\n",
    "encodec.set_target_bandwidth(1.5)\n",
    "codes = torch.tensor(generated_chunks[4])\n",
    "codes = rearrange(codes, \"(s nq) -> 1 nq s\", nq=num_codebooks)  # [B, n_q, T]\n",
    "decoded_wav = encodec.decode([(codes, None)])\n",
    "Audio(decoded_wav.squeeze().detach(), rate=encodec.sample_rate)"
   ]
  }
 ],
 "metadata": {
  "kernelspec": {
   "display_name": "Python 3",
   "language": "python",
   "name": "python3"
  },
  "language_info": {
   "codemirror_mode": {
    "name": "ipython",
    "version": 3
   },
   "file_extension": ".py",
   "mimetype": "text/x-python",
   "name": "python",
   "nbconvert_exporter": "python",
   "pygments_lexer": "ipython3",
   "version": "3.10.10"
  },
  "orig_nbformat": 4,
  "vscode": {
   "interpreter": {
    "hash": "df093b121338e4ba53ef4b1498ab73a48c899993bc5e86e966943448d3561eb1"
   }
  }
 },
 "nbformat": 4,
 "nbformat_minor": 2
}
