{
 "cells": [
  {
   "cell_type": "code",
   "execution_count": null,
   "metadata": {},
   "outputs": [],
   "source": [
    "import torch\n",
    "import pytorch_lightning as pl\n",
    "from omegaconf import OmegaConf\n",
    "import sys\n",
    "\n",
    "sys.path.append(r\"../../\")\n",
    "from circe.models.LightningClassifier import LightningClassifier\n",
    "\n",
    "cfg_model = OmegaConf.load('../training/conf/model/hf-gpt.yaml')\n",
    "\n",
    "ckpt_path = \"../../../models-hfGPT-specvqgan/lightning_logs/version_28/checkpoints/epoch=94-step=2375.ckpt\"\n",
    "model = LightningClassifier(cfg=cfg_model)\n",
    "model.configure_sharded_model()\n",
    "model.load_state_dict(torch.load(ckpt_path)[\"state_dict\"])\n",
    "model.eval()"
   ]
  },
  {
   "cell_type": "code",
   "execution_count": null,
   "metadata": {},
   "outputs": [],
   "source": [
    "out_dir = 'out' # ignored if init_from is not 'resume'\n",
    "num_samples = 10 # number of samples to draw\n",
    "max_new_tokens = 500 # number of tokens generated in each sample\n",
    "temperature = 1.0 # 1.0 = no change, < 1.0 = less random, > 1.0 = more random, in predictions\n",
    "top_k = 40 # retain only the top_k most likely tokens, clamp others to have 0 probability\n",
    "seed = 1337\n",
    "device = \"cuda\"\n",
    "device_type = 'cuda' if 'cuda' in device else 'cpu' # for later use in torch.autocast"
   ]
  },
  {
   "cell_type": "code",
   "execution_count": null,
   "metadata": {},
   "outputs": [],
   "source": [
    "torch.manual_seed(seed)\n",
    "torch.cuda.manual_seed(seed)"
   ]
  },
  {
   "cell_type": "code",
   "execution_count": null,
   "metadata": {},
   "outputs": [],
   "source": [
    "from contextlib import nullcontext\n",
    "\n",
    "start_ids = []\n",
    "start_ids = start_ids[:(len(start_ids) // 5) * 5]\n",
    "x = (torch.tensor(start_ids, dtype=torch.long, device=next(model.parameters()).device)[None, ...])\n",
    "# run generation\n",
    "ctx = nullcontext() if device_type == 'cpu' else torch.amp.autocast(device_type=device_type, dtype=torch.float16)\n",
    "with torch.no_grad():\n",
    "    with ctx:\n",
    "        for k in range(num_samples):\n",
    "            y = model.generate(x, max_new_tokens, temperature=0.9, top_k=50)\n",
    "            print(y[0].tolist())\n",
    "            print('---------------')\n"
   ]
  },
  {
   "attachments": {},
   "cell_type": "markdown",
   "metadata": {},
   "source": [
    "## SpecVQGAN inference"
   ]
  },
  {
   "cell_type": "code",
   "execution_count": null,
   "metadata": {},
   "outputs": [],
   "source": [
    "import os\n",
    "import sys\n",
    "from pathlib import Path\n",
    "import soundfile\n",
    "import torch\n",
    "import IPython\n",
    "import matplotlib.pyplot as plt\n",
    "from einops import rearrange\n",
    "from importlib import reload\n",
    "\n",
    "sys.path.append(r\"../../\")\n",
    "from circe.specvqgan.feature_extraction.demo_utils import (calculate_codebook_bitrate,\n",
    "                                           extract_melspectrogram,\n",
    "                                           get_audio_file_bitrate,\n",
    "                                           get_duration,\n",
    "                                           load_neural_audio_codec)\n",
    "from circe.specvqgan.sample_visualization import tensor_to_plt\n",
    "from torch.utils.data.dataloader import default_collate\n",
    "\n",
    "device = torch.device('cuda' if torch.cuda.is_available() else 'cpu')\n",
    "device = \"cpu\""
   ]
  },
  {
   "cell_type": "code",
   "execution_count": null,
   "metadata": {},
   "outputs": [],
   "source": [
    "model_name = '2021-05-19T22-16-54_vggsound_codebook'\n",
    "log_dir = '../../../Circe/vggsound'\n",
    "# loading the models might take a few minutes\n",
    "config, model, vocoder = load_neural_audio_codec(model_name, log_dir, device)"
   ]
  },
  {
   "cell_type": "code",
   "execution_count": null,
   "metadata": {},
   "outputs": [],
   "source": [
    "info = []\n",
    "info = torch.tensor(info).to(device)\n",
    "info = rearrange(info, \"(t f) -> (f t) 1\", f=5)\n",
    "orig_audio = start_ids\n",
    "orig_audio = torch.tensor(orig_audio).to(device)\n",
    "orig_audio = rearrange(orig_audio, \"(t f) -> (f t) 1\", f=5)\n",
    "with torch.no_grad():\n",
    "    xrec = model.decode_code(info.squeeze(), shape=(info.shape[1], 5, -1, 256))\n",
    "    x = model.decode_code(orig_audio.squeeze(), shape=(orig_audio.shape[1], 5, -1, 256))\n",
    "\n",
    "print('Compressed representation (it is all you need to recover the audio):')\n",
    "print(info.reshape(5, -1).shape)"
   ]
  },
  {
   "cell_type": "code",
   "execution_count": null,
   "metadata": {},
   "outputs": [],
   "source": [
    "# Save and Display\n",
    "x = x.squeeze(0)\n",
    "xrec = xrec.squeeze(0)\n",
    "# specs are in [-1, 1], making them in [0, 1]\n",
    "wav_x = vocoder((x + 1) / 2).squeeze().detach().cpu().numpy()\n",
    "wav_xrec = vocoder((xrec + 1) / 2).squeeze().detach().cpu().numpy()\n",
    "print(wav_xrec.shape)\n",
    "# Creating a temp folder which will hold the results\n",
    "tmp_dir = '/tmp/neural_audio_codec'\n",
    "os.makedirs(tmp_dir, exist_ok=True)\n",
    "# Save paths\n",
    "x_save_path = Path(tmp_dir) / f'specvqgan_cond.wav'\n",
    "xrec_save_path = Path(tmp_dir) / f'specvqgan_generated.wav'\n",
    "# Save\n",
    "model_sr = config.data.params.sample_rate\n",
    "soundfile.write(x_save_path, wav_x, model_sr, 'PCM_16')\n",
    "soundfile.write(xrec_save_path, wav_xrec, model_sr, 'PCM_16')\n",
    "# Display\n",
    "print(f'Conditioning audio generated:')\n",
    "IPython.display.display(IPython.display.Audio(str(x_save_path)))\n",
    "plt.close()\n",
    "print('Conditioning Spectrogram:')\n",
    "IPython.display.display(tensor_to_plt(x, flip_dims=(2,)))\n",
    "plt.close()\n",
    "print(f'Reconstructed audio generated:')\n",
    "IPython.display.display(IPython.display.Audio(str(xrec_save_path)))\n",
    "plt.close()\n",
    "print('Reconstructed Spectrogram:')\n",
    "IPython.display.display(tensor_to_plt(xrec, flip_dims=(2,)))\n",
    "plt.close()"
   ]
  }
 ],
 "metadata": {
  "kernelspec": {
   "display_name": "Python 3",
   "language": "python",
   "name": "python3"
  },
  "language_info": {
   "codemirror_mode": {
    "name": "ipython",
    "version": 3
   },
   "file_extension": ".py",
   "mimetype": "text/x-python",
   "name": "python",
   "nbconvert_exporter": "python",
   "pygments_lexer": "ipython3",
   "version": "3.10.9"
  },
  "orig_nbformat": 4,
  "vscode": {
   "interpreter": {
    "hash": "df093b121338e4ba53ef4b1498ab73a48c899993bc5e86e966943448d3561eb1"
   }
  }
 },
 "nbformat": 4,
 "nbformat_minor": 2
}
